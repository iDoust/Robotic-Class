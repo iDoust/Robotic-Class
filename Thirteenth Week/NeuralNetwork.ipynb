{
 "cells": [
  {
   "cell_type": "code",
   "execution_count": 1,
   "metadata": {},
   "outputs": [
    {
     "name": "stdout",
     "output_type": "stream",
     "text": [
      "Epoch 1/5\n",
      "1875/1875 [==============================] - 14s 7ms/step - loss: 0.4944 - accuracy: 0.8270\n",
      "Epoch 2/5\n",
      "1875/1875 [==============================] - 11s 6ms/step - loss: 0.3734 - accuracy: 0.8657\n",
      "Epoch 3/5\n",
      "1875/1875 [==============================] - 14s 8ms/step - loss: 0.3383 - accuracy: 0.8752\n",
      "Epoch 4/5\n",
      "1875/1875 [==============================] - 12s 6ms/step - loss: 0.3113 - accuracy: 0.8853\n",
      "Epoch 5/5\n",
      "1875/1875 [==============================] - 16s 9ms/step - loss: 0.2956 - accuracy: 0.8917\n",
      "313/313 [==============================] - 2s 6ms/step - loss: 0.3456 - accuracy: 0.8775\n",
      "\n",
      "Test accuracy: 0.8774999976158142\n"
     ]
    }
   ],
   "source": [
    "import tensorflow as tf\n",
    "from tensorflow import keras\n",
    "from tensorflow.keras import layers\n",
    "\n",
    "# Load the Fashion MNIST dataset\n",
    "(x_train, y_train), (x_test, y_test) = keras.datasets.fashion_mnist.load_data()\n",
    "\n",
    "# Preprocess the data\n",
    "x_train = x_train / 255.0\n",
    "x_test = x_test / 255.0\n",
    "\n",
    "# Build the neural network model\n",
    "model = keras.Sequential([\n",
    "    layers.Flatten(input_shape=(28, 28)),  # Flatten the 28x28 input images\n",
    "    layers.Dense(128, activation='relu'),   # Fully connected layer with 128 neurons\n",
    "    layers.Dense(10, activation='softmax')  # Output layer with 10 neurons for 10 classes\n",
    "])\n",
    "\n",
    "# Compile the model\n",
    "model.compile(optimizer='adam',\n",
    "              loss='sparse_categorical_crossentropy',\n",
    "              metrics=['accuracy'])\n",
    "\n",
    "# Train the model\n",
    "model.fit(x_train, y_train, epochs=5)\n",
    "\n",
    "# Evaluate the model on the test set\n",
    "test_loss, test_acc = model.evaluate(x_test, y_test)\n",
    "print(f'\\nTest accuracy: {test_acc}')\n",
    "\n",
    "#Kegunaan dari codingan di atas adalah:\n",
    "#1. Load Data:\n",
    "#Menggunakan keras.datasets.fashion_mnist.load_data() untuk memuat dataset Fashion MNIST. Dataset ini terdiri dari gambar-gambar pakaian dan label-labelnya.\n",
    "#Data kemudian dipecah menjadi data pelatihan (x_train, y_train) dan data uji (x_test, y_test).\n",
    "\n",
    "#2. Preprocess Data:\n",
    "# Normalisasi data gambar agar nilainya berada dalam rentang 0 hingga 1 dengan membagi setiap nilai piksel dengan 255.0.\n",
    "\n",
    "#3. Build Neural Network Model:\n",
    "# Menggunakan Sequential dari Keras untuk membuat model neural network berurutan.\n",
    "# Layer pertama (Flatten) digunakan untuk meratakan input 28x28 menjadi satu dimensi (784).\n",
    "# Layer kedua (Dense) adalah fully connected layer dengan 128 neuron dan fungsi aktivasi ReLU.\n",
    "# Layer ketiga (Dense) adalah layer output dengan 10 neuron (sesuai dengan jumlah kelas pada Fashion MNIST) dan fungsi aktivasi softmax.\n",
    "\n",
    "#4. Compile Model:\n",
    "# Menggunakan model.compile untuk menentukan konfigurasi pelatihan seperti optimizer, fungsi loss, dan metrik evaluasi (dalam contoh ini, kita menggunakan Adam optimizer dan sparse categorical crossentropy loss).\n",
    "\n",
    "#5. Train Model:\n",
    "# Menggunakan model.fit untuk melatih model dengan data pelatihan (x_train, y_train) selama beberapa epoch (dalam contoh ini, 5 epoch).\n",
    "# Proses ini akan mengoptimalkan parameter model berdasarkan perbedaan antara prediksi dan label yang sebenarnya.\n",
    "\n",
    "#6. Evaluate Model:\n",
    "# Menggunakan model.evaluate untuk mengevaluasi performa model pada data uji (x_test, y_test).\n",
    "# Hasilnya mencakup loss dan akurasi pada dataset uji\n",
    "\n",
    "#7. Print Test Accuracy:\n",
    "# Mencetak akurasi pengujian pada dataset uji."
   ]
  }
 ],
 "metadata": {
  "kernelspec": {
   "display_name": "Python 3",
   "language": "python",
   "name": "python3"
  },
  "language_info": {
   "codemirror_mode": {
    "name": "ipython",
    "version": 3
   },
   "file_extension": ".py",
   "mimetype": "text/x-python",
   "name": "python",
   "nbconvert_exporter": "python",
   "pygments_lexer": "ipython3",
   "version": "3.9.12"
  }
 },
 "nbformat": 4,
 "nbformat_minor": 2
}
